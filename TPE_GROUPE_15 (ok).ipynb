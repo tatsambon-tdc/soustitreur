{
 "cells": [
  {
   "cell_type": "markdown",
   "metadata": {
    "id": "Ap6HU7TUdmN8"
   },
   "source": []
  },
  {
   "cell_type": "markdown",
   "metadata": {
    "id": "b-V8OUAv2yr0"
   },
   "source": [
    "\n",
    "Salut à vous, ce notebook vient de TATSAMBON :) \n",
    "Pour faciliter la compréhension de la méthode d'apprentissage Supervisé qui nous concerne : K NN \n",
    "**Il est important de noter qu'un nouvel notebook sera créé pour l'implémentation dudit concept   dans le cadre de notre projet **\n",
    "\n"
   ]
  },
  {
   "cell_type": "markdown",
   "metadata": {
    "id": "W6zapzCtgi_v"
   },
   "source": [
    "\n",
    "\n",
    "\n",
    "En fait, le k-NN est un type spécial d’algorithme de l'appentissage supervisé. Il est \"non paramétrique\" et il se base uniquement sur les données d’entraînement. Ce type d’algorithme est appelé memory-based.\n",
    "\n",
    "\n",
    "\n",
    "[resources de kaggle](https://docs.google.com/document/d/16SNyXSDShEEzjN474f6V1XTezAZ8b4-aOmMV7LNgI_I/edit#)\n"
   ]
  },
  {
   "cell_type": "code",
   "execution_count": null,
   "metadata": {
    "colab": {
     "base_uri": "https://localhost:8080/"
    },
    "id": "uzqv0OK0eNa-",
    "outputId": "13c7c3aa-c472-4c11-8b4f-fe6e62b4eca5"
   },
   "outputs": [
    {
     "name": "stdout",
     "output_type": "stream",
     "text": [
      "/content/sample_data/PROJET INF 365\n"
     ]
    }
   ],
   "source": [
    "cd /content/sample_data/PROJET INF 365\n"
   ]
  },
  {
   "cell_type": "code",
   "execution_count": null,
   "metadata": {
    "colab": {
     "base_uri": "https://localhost:8080/"
    },
    "id": "Zc7N4S1keS2E",
    "outputId": "4027be3f-2e18-4cbf-914d-a79a621f6925"
   },
   "outputs": [
    {
     "name": "stdout",
     "output_type": "stream",
     "text": [
      "DataT3RR.csv\n"
     ]
    }
   ],
   "source": [
    "ls "
   ]
  },
  {
   "cell_type": "code",
   "execution_count": 33,
   "metadata": {
    "id": "M8zuAb_K2tRc"
   },
   "outputs": [],
   "source": [
    "import numpy as np \n",
    "import pandas as pd \n",
    "import matplotlib.pyplot as plt\n",
    "from sklearn import preprocessing\n",
    "import seaborn as sns\n"
   ]
  },
  {
   "cell_type": "code",
   "execution_count": null,
   "metadata": {
    "id": "rllXRrLSe56f"
   },
   "outputs": [],
   "source": []
  },
  {
   "cell_type": "markdown",
   "metadata": {
    "id": "XQuQ9KFkegcV"
   },
   "source": [
    "ON UTILISE ICI UNE DATASET FORURNIE PAR \n",
    "[le site web KAGGLE ]"
   ]
  },
  {
   "cell_type": "code",
   "execution_count": 110,
   "metadata": {
    "colab": {
     "base_uri": "https://localhost:8080/",
     "height": 631
    },
    "id": "kRazSs9vdn7A",
    "outputId": "4404abd4-aa7b-47bf-dbe6-ba747b6b8a5c"
   },
   "outputs": [
    {
     "name": "stdout",
     "output_type": "stream",
     "text": [
      "information relatives a notre dataset : (923, 8)\n",
      "<class 'pandas.core.frame.DataFrame'>\n",
      "RangeIndex: 923 entries, 0 to 922\n",
      "Data columns (total 8 columns):\n",
      " #   Column                Non-Null Count  Dtype  \n",
      "---  ------                --------------  -----  \n",
      " 0   Stations              923 non-null    object \n",
      " 1   Dates                 923 non-null    object \n",
      " 2   Temperatue_Matinee    923 non-null    float64\n",
      " 3   Temperature_apreM     923 non-null    float64\n",
      " 4   Temperatures_Moy      923 non-null    float64\n",
      " 5   Precipitation         923 non-null    float64\n",
      " 6   Est_un_jour_de_pluie  923 non-null    int64  \n",
      " 7   Demain_il_pleura      923 non-null    int64  \n",
      "dtypes: float64(4), int64(2), object(2)\n",
      "memory usage: 57.8+ KB\n"
     ]
    },
    {
     "name": "stderr",
     "output_type": "stream",
     "text": [
      "<ipython-input-110-1e27d093b9b7>:1: ParserWarning: Falling back to the 'python' engine because the 'c' engine does not support regex separators (separators > 1 char and different from '\\s+' are interpreted as regex); you can avoid this warning by specifying engine='python'.\n",
      "  donnees = pd.read_csv('./DataT3RR.csv',sep=r'\\s*,\\s*')\n"
     ]
    },
    {
     "data": {
      "text/html": [
       "<div>\n",
       "<style scoped>\n",
       "    .dataframe tbody tr th:only-of-type {\n",
       "        vertical-align: middle;\n",
       "    }\n",
       "\n",
       "    .dataframe tbody tr th {\n",
       "        vertical-align: top;\n",
       "    }\n",
       "\n",
       "    .dataframe thead th {\n",
       "        text-align: right;\n",
       "    }\n",
       "</style>\n",
       "<table border=\"1\" class=\"dataframe\">\n",
       "  <thead>\n",
       "    <tr style=\"text-align: right;\">\n",
       "      <th></th>\n",
       "      <th>Stations</th>\n",
       "      <th>Dates</th>\n",
       "      <th>Temperatue_Matinee</th>\n",
       "      <th>Temperature_apreM</th>\n",
       "      <th>Temperatures_Moy</th>\n",
       "      <th>Precipitation</th>\n",
       "      <th>Est_un_jour_de_pluie</th>\n",
       "      <th>Demain_il_pleura</th>\n",
       "    </tr>\n",
       "  </thead>\n",
       "  <tbody>\n",
       "    <tr>\n",
       "      <th>0</th>\n",
       "      <td>Stasiun Meteorologi Nangapinoh</td>\n",
       "      <td>20-03-2010</td>\n",
       "      <td>20.3</td>\n",
       "      <td>31.1</td>\n",
       "      <td>25.8</td>\n",
       "      <td>108.0</td>\n",
       "      <td>1</td>\n",
       "      <td>1</td>\n",
       "    </tr>\n",
       "    <tr>\n",
       "      <th>1</th>\n",
       "      <td>Stasiun Meteorologi Maritim Tanjung Mas</td>\n",
       "      <td>07-03-2010</td>\n",
       "      <td>25.0</td>\n",
       "      <td>31.8</td>\n",
       "      <td>29.2</td>\n",
       "      <td>106.0</td>\n",
       "      <td>1</td>\n",
       "      <td>1</td>\n",
       "    </tr>\n",
       "    <tr>\n",
       "      <th>2</th>\n",
       "      <td>Stasiun Klimatologi Mempawah</td>\n",
       "      <td>09-01-2009</td>\n",
       "      <td>23.4</td>\n",
       "      <td>29.6</td>\n",
       "      <td>25.8</td>\n",
       "      <td>100.6</td>\n",
       "      <td>1</td>\n",
       "      <td>1</td>\n",
       "    </tr>\n",
       "    <tr>\n",
       "      <th>3</th>\n",
       "      <td>Stasiun Meteorologi Cilacap</td>\n",
       "      <td>09-01-2009</td>\n",
       "      <td>23.6</td>\n",
       "      <td>28.0</td>\n",
       "      <td>25.6</td>\n",
       "      <td>93.9</td>\n",
       "      <td>1</td>\n",
       "      <td>1</td>\n",
       "    </tr>\n",
       "    <tr>\n",
       "      <th>4</th>\n",
       "      <td>Stasiun Klimatologi Bogor</td>\n",
       "      <td>21-01-2009</td>\n",
       "      <td>21.1</td>\n",
       "      <td>29.4</td>\n",
       "      <td>25.5</td>\n",
       "      <td>93.0</td>\n",
       "      <td>1</td>\n",
       "      <td>1</td>\n",
       "    </tr>\n",
       "    <tr>\n",
       "      <th>...</th>\n",
       "      <td>...</td>\n",
       "      <td>...</td>\n",
       "      <td>...</td>\n",
       "      <td>...</td>\n",
       "      <td>...</td>\n",
       "      <td>...</td>\n",
       "      <td>...</td>\n",
       "      <td>...</td>\n",
       "    </tr>\n",
       "    <tr>\n",
       "      <th>918</th>\n",
       "      <td>Stasiun Klimatologi Bogor</td>\n",
       "      <td>09-03-2009</td>\n",
       "      <td>22.4</td>\n",
       "      <td>32.5</td>\n",
       "      <td>25.9</td>\n",
       "      <td>0.0</td>\n",
       "      <td>0</td>\n",
       "      <td>0</td>\n",
       "    </tr>\n",
       "    <tr>\n",
       "      <th>919</th>\n",
       "      <td>Stasiun Klimatologi Bogor</td>\n",
       "      <td>18-03-2009</td>\n",
       "      <td>21.2</td>\n",
       "      <td>33.0</td>\n",
       "      <td>26.6</td>\n",
       "      <td>0.0</td>\n",
       "      <td>0</td>\n",
       "      <td>0</td>\n",
       "    </tr>\n",
       "    <tr>\n",
       "      <th>920</th>\n",
       "      <td>Stasiun Klimatologi Bogor</td>\n",
       "      <td>19-03-2009</td>\n",
       "      <td>21.3</td>\n",
       "      <td>31.8</td>\n",
       "      <td>25.2</td>\n",
       "      <td>0.0</td>\n",
       "      <td>0</td>\n",
       "      <td>0</td>\n",
       "    </tr>\n",
       "    <tr>\n",
       "      <th>921</th>\n",
       "      <td>Stasiun Klimatologi Bogor</td>\n",
       "      <td>21-03-2009</td>\n",
       "      <td>21.6</td>\n",
       "      <td>32.4</td>\n",
       "      <td>26.1</td>\n",
       "      <td>0.0</td>\n",
       "      <td>0</td>\n",
       "      <td>0</td>\n",
       "    </tr>\n",
       "    <tr>\n",
       "      <th>922</th>\n",
       "      <td>Stasiun Klimatologi Bogor</td>\n",
       "      <td>22-03-2009</td>\n",
       "      <td>22.2</td>\n",
       "      <td>32.5</td>\n",
       "      <td>25.6</td>\n",
       "      <td>0.0</td>\n",
       "      <td>0</td>\n",
       "      <td>0</td>\n",
       "    </tr>\n",
       "  </tbody>\n",
       "</table>\n",
       "<p>923 rows × 8 columns</p>\n",
       "</div>"
      ],
      "text/plain": [
       "                                    Stations       Dates  Temperatue_Matinee  \\\n",
       "0             Stasiun Meteorologi Nangapinoh  20-03-2010                20.3   \n",
       "1    Stasiun Meteorologi Maritim Tanjung Mas  07-03-2010                25.0   \n",
       "2               Stasiun Klimatologi Mempawah  09-01-2009                23.4   \n",
       "3                Stasiun Meteorologi Cilacap  09-01-2009                23.6   \n",
       "4                  Stasiun Klimatologi Bogor  21-01-2009                21.1   \n",
       "..                                       ...         ...                 ...   \n",
       "918                Stasiun Klimatologi Bogor  09-03-2009                22.4   \n",
       "919                Stasiun Klimatologi Bogor  18-03-2009                21.2   \n",
       "920                Stasiun Klimatologi Bogor  19-03-2009                21.3   \n",
       "921                Stasiun Klimatologi Bogor  21-03-2009                21.6   \n",
       "922                Stasiun Klimatologi Bogor  22-03-2009                22.2   \n",
       "\n",
       "     Temperature_apreM  Temperatures_Moy  Precipitation  Est_un_jour_de_pluie  \\\n",
       "0                 31.1              25.8          108.0                     1   \n",
       "1                 31.8              29.2          106.0                     1   \n",
       "2                 29.6              25.8          100.6                     1   \n",
       "3                 28.0              25.6           93.9                     1   \n",
       "4                 29.4              25.5           93.0                     1   \n",
       "..                 ...               ...            ...                   ...   \n",
       "918               32.5              25.9            0.0                     0   \n",
       "919               33.0              26.6            0.0                     0   \n",
       "920               31.8              25.2            0.0                     0   \n",
       "921               32.4              26.1            0.0                     0   \n",
       "922               32.5              25.6            0.0                     0   \n",
       "\n",
       "     Demain_il_pleura  \n",
       "0                   1  \n",
       "1                   1  \n",
       "2                   1  \n",
       "3                   1  \n",
       "4                   1  \n",
       "..                ...  \n",
       "918                 0  \n",
       "919                 0  \n",
       "920                 0  \n",
       "921                 0  \n",
       "922                 0  \n",
       "\n",
       "[923 rows x 8 columns]"
      ]
     },
     "execution_count": 110,
     "metadata": {},
     "output_type": "execute_result"
    }
   ],
   "source": [
    "donnees = pd.read_csv('./DataT3RR.csv',sep=r'\\s*,\\s*')\n",
    "print('information relatives a notre dataset :',donnees.shape)\n",
    "donnees.info()\n",
    "donnees"
   ]
  },
  {
   "cell_type": "markdown",
   "metadata": {
    "id": "5NaClONS1MsC"
   },
   "source": []
  },
  {
   "cell_type": "markdown",
   "metadata": {
    "id": "zpHMgZ5ufKPH"
   },
   "source": []
  },
  {
   "cell_type": "code",
   "execution_count": 111,
   "metadata": {
    "colab": {
     "base_uri": "https://localhost:8080/"
    },
    "id": "DiXkomETeeRn",
    "outputId": "99c803e0-56e7-429d-ab58-657aac97a9f2"
   },
   "outputs": [
    {
     "name": "stdout",
     "output_type": "stream",
     "text": [
      "(923, 6)\n"
     ]
    }
   ],
   "source": [
    "donnees = donnees.drop(columns=['Stations','Dates'],\n",
    "\n",
    "                 axis=1)\n",
    "donnees = donnees.dropna(how='any')\n",
    "print(donnees.shape)"
   ]
  },
  {
   "cell_type": "code",
   "execution_count": null,
   "metadata": {
    "id": "mTxSJnali-J6"
   },
   "outputs": [],
   "source": []
  },
  {
   "cell_type": "markdown",
   "metadata": {
    "id": "3bT2xJrPi9qA"
   },
   "source": []
  },
  {
   "cell_type": "code",
   "execution_count": 112,
   "metadata": {
    "colab": {
     "base_uri": "https://localhost:8080/",
     "height": 221
    },
    "id": "Wdk7fT2Bi_hc",
    "outputId": "6dbbbe51-6937-4fb5-a9f6-9d9e396c7f41"
   },
   "outputs": [
    {
     "name": "stdout",
     "output_type": "stream",
     "text": [
      "(923, 6)\n"
     ]
    },
    {
     "data": {
      "text/html": [
       "<div>\n",
       "<style scoped>\n",
       "    .dataframe tbody tr th:only-of-type {\n",
       "        vertical-align: middle;\n",
       "    }\n",
       "\n",
       "    .dataframe tbody tr th {\n",
       "        vertical-align: top;\n",
       "    }\n",
       "\n",
       "    .dataframe thead th {\n",
       "        text-align: right;\n",
       "    }\n",
       "</style>\n",
       "<table border=\"1\" class=\"dataframe\">\n",
       "  <thead>\n",
       "    <tr style=\"text-align: right;\">\n",
       "      <th></th>\n",
       "      <th>Temperatue_Matinee</th>\n",
       "      <th>Temperature_apreM</th>\n",
       "      <th>Temperatures_Moy</th>\n",
       "      <th>Precipitation</th>\n",
       "      <th>Est_un_jour_de_pluie</th>\n",
       "      <th>Demain_il_pleura</th>\n",
       "    </tr>\n",
       "  </thead>\n",
       "  <tbody>\n",
       "    <tr>\n",
       "      <th>0</th>\n",
       "      <td>20.3</td>\n",
       "      <td>31.1</td>\n",
       "      <td>25.8</td>\n",
       "      <td>108.0</td>\n",
       "      <td>1</td>\n",
       "      <td>1</td>\n",
       "    </tr>\n",
       "    <tr>\n",
       "      <th>1</th>\n",
       "      <td>25.0</td>\n",
       "      <td>31.8</td>\n",
       "      <td>29.2</td>\n",
       "      <td>106.0</td>\n",
       "      <td>1</td>\n",
       "      <td>1</td>\n",
       "    </tr>\n",
       "    <tr>\n",
       "      <th>2</th>\n",
       "      <td>23.4</td>\n",
       "      <td>29.6</td>\n",
       "      <td>25.8</td>\n",
       "      <td>100.6</td>\n",
       "      <td>1</td>\n",
       "      <td>1</td>\n",
       "    </tr>\n",
       "    <tr>\n",
       "      <th>3</th>\n",
       "      <td>23.6</td>\n",
       "      <td>28.0</td>\n",
       "      <td>25.6</td>\n",
       "      <td>93.9</td>\n",
       "      <td>1</td>\n",
       "      <td>1</td>\n",
       "    </tr>\n",
       "    <tr>\n",
       "      <th>4</th>\n",
       "      <td>21.1</td>\n",
       "      <td>29.4</td>\n",
       "      <td>25.5</td>\n",
       "      <td>93.0</td>\n",
       "      <td>1</td>\n",
       "      <td>1</td>\n",
       "    </tr>\n",
       "  </tbody>\n",
       "</table>\n",
       "</div>"
      ],
      "text/plain": [
       "   Temperatue_Matinee  Temperature_apreM  Temperatures_Moy  Precipitation  \\\n",
       "0                20.3               31.1              25.8          108.0   \n",
       "1                25.0               31.8              29.2          106.0   \n",
       "2                23.4               29.6              25.8          100.6   \n",
       "3                23.6               28.0              25.6           93.9   \n",
       "4                21.1               29.4              25.5           93.0   \n",
       "\n",
       "   Est_un_jour_de_pluie  Demain_il_pleura  \n",
       "0                     1                 1  \n",
       "1                     1                 1  \n",
       "2                     1                 1  \n",
       "3                     1                 1  \n",
       "4                     1                 1  "
      ]
     },
     "execution_count": 112,
     "metadata": {},
     "output_type": "execute_result"
    }
   ],
   "source": [
    "print(donnees.shape)\n",
    "donnees.head() "
   ]
  },
  {
   "cell_type": "code",
   "execution_count": null,
   "metadata": {
    "id": "udYYUeoAjL7F"
   },
   "outputs": [],
   "source": []
  },
  {
   "cell_type": "code",
   "execution_count": 113,
   "metadata": {
    "colab": {
     "base_uri": "https://localhost:8080/",
     "height": 333
    },
    "id": "xIF8V_JSjL3d",
    "outputId": "4e2873ee-adf6-4f28-ab44-1a058c275a06"
   },
   "outputs": [
    {
     "name": "stderr",
     "output_type": "stream",
     "text": [
      "C:\\Users\\hp\\anaconda3\\lib\\site-packages\\seaborn\\_decorators.py:36: FutureWarning: Pass the following variables as keyword args: x, y. From version 0.12, the only valid positional argument will be `data`, and passing other arguments without an explicit keyword will result in an error or misinterpretation.\n",
      "  warnings.warn(\n"
     ]
    },
    {
     "data": {
      "image/png": "[encoded data removed]",
      "text/plain": [
       "<Figure size 432x288 with 1 Axes>"
      ]
     },
     "metadata": {
      "needs_background": "light"
     },
     "output_type": "display_data"
    }
   ],
   "source": [
    "cnt_pro = donnees['Est_un_jour_de_pluie'].value_counts()\n",
    "plt.figure(figsize=(6,4))\n",
    "sns.barplot(cnt_pro.index, cnt_pro.values, alpha=0.8)\n",
    "plt.ylabel('Nombrer d\\' Occurrences', fontsize=12)\n",
    "plt.xlabel('Kelas', fontsize=12)\n",
    "plt.xticks(rotation=90)\n",
    "plt.show();"
   ]
  },
  {
   "cell_type": "markdown",
   "metadata": {
    "id": "OqZ6V0Mwdkqx"
   },
   "source": []
  },
  {
   "cell_type": "code",
   "execution_count": null,
   "metadata": {
    "colab": {
     "base_uri": "https://localhost:8080/",
     "height": 946
    },
    "id": "HtJMpsNKjTEt",
    "outputId": "b2fb3765-dcfc-4dcc-ab05-47b87fa863fa"
   },
   "outputs": [],
   "source": []
  },
  {
   "cell_type": "code",
   "execution_count": 114,
   "metadata": {
    "colab": {
     "base_uri": "https://localhost:8080/"
    },
    "id": "HoLyEszRjjDG",
    "outputId": "41a268ae-f066-4e05-eea7-d651aa9d85f1"
   },
   "outputs": [
    {
     "name": "stdout",
     "output_type": "stream",
     "text": [
      "Var correlation < 0.5% Empty DataFrame\n",
      "Columns: [Demain_il_pleura, Temperatue_Matinee, Temperature_apreM, Temperatures_Moy]\n",
      "Index: []\n",
      "Donnes finales  (923, 6)\n"
     ]
    }
   ],
   "source": [
    "# Calcule de la matrice de corolation\n",
    "corr = donnees.corr()\n",
    "corr1 = pd.DataFrame(abs(corr['Demain_il_pleura']),columns = ['Demain_il_pleura','Temperatue_Matinee','Temperature_apreM','Temperatures_Moy'])\n",
    "nonvals = corr1.loc[corr1['Demain_il_pleura'] < 0.005]\n",
    "print('Var correlation < 0.5%',nonvals)\n",
    "nonvals = list(nonvals.index.values)\n",
    "\n",
    "# extraction des donnes de corellation <0.%\n",
    "donnees1 = donnees.drop(columns=nonvals,axis=1)\n",
    "print('Donnes finales ',donnees1.shape)"
   ]
  },
  {
   "cell_type": "code",
   "execution_count": null,
   "metadata": {
    "id": "QGnooXgsjlNF"
   },
   "outputs": [],
   "source": []
  },
  {
   "cell_type": "code",
   "execution_count": 117,
   "metadata": {
    "colab": {
     "base_uri": "https://localhost:8080/",
     "height": 339
    },
    "id": "ooAr9bv4jlGT",
    "outputId": "1e06aa3d-a6a3-4a10-d9e5-b199b9f3716d"
   },
   "outputs": [
    {
     "data": {
      "text/plain": [
       "<AxesSubplot:>"
      ]
     },
     "execution_count": 117,
     "metadata": {},
     "output_type": "execute_result"
    },
    {
     "data": {
      "image/png": "[encoded data removed]",
      "text/plain": [
       "<Figure size 432x288 with 2 Axes>"
      ]
     },
     "metadata": {
      "needs_background": "light"
     },
     "output_type": "display_data"
    }
   ],
   "source": [
    "donnees = donnees[['Temperatue_Matinee','Temperature_apreM','Temperatures_Moy','Precipitation','Est_un_jour_de_pluie','Demain_il_pleura']] \n",
    "#Subsetting the data Stations\tDates\t\t\t\t\t\t\n",
    "cor = donnees.corr() #Calculate the correlation of the above variables\n",
    "sns.heatmap(cor, square = True) #Plot the correlation as heat map"
   ]
  },
  {
   "cell_type": "code",
   "execution_count": 119,
   "metadata": {
    "id": "ChYyQGI2j0ec"
   },
   "outputs": [],
   "source": [
    "from sklearn.model_selection import train_test_split\n",
    "Y = donnees['Demain_il_pleura']\n",
    "X = donnees.drop(columns=['Demain_il_pleura'])\n",
    "X_train, X_test, Y_train, Y_test = train_test_split(X, Y, test_size=0.3, random_state=9)"
   ]
  },
  {
   "cell_type": "code",
   "execution_count": 120,
   "metadata": {
    "colab": {
     "base_uri": "https://localhost:8080/"
    },
    "id": "WNXFWTaRj1-1",
    "outputId": "64431f34-7f2b-4bb0-a22e-232b9da7fd7a"
   },
   "outputs": [
    {
     "name": "stdout",
     "output_type": "stream",
     "text": [
      "X train shape:  (646, 5)\n",
      "Y train shape:  (646,)\n",
      "X test shape:  (277, 5)\n",
      "Y test shape:  (277,)\n"
     ]
    }
   ],
   "source": [
    "print('X train shape: ', X_train.shape)\n",
    "print('Y train shape: ', Y_train.shape)\n",
    "print('X test shape: ', X_test.shape)\n",
    "print('Y test shape: ', Y_test.shape)"
   ]
  },
  {
   "cell_type": "code",
   "execution_count": 159,
   "metadata": {
    "id": "1Ki9aQB_j7ig"
   },
   "outputs": [],
   "source": [
    "from sklearn.neighbors import KNeighborsClassifier\n",
    "\n",
    "# definition de notre model\n",
    "knncla = KNeighborsClassifier(n_neighbors=5,n_jobs=-1)\n",
    "\n",
    "# entrainement de mode\n",
    "knncla.fit(X_train, Y_train)\n",
    "\n",
    "# nous effectuons une prediction sur les donnees que nous avons choisi comme notre testSet\n",
    "Y_predict6 = knncla.predict(X_test)\n"
   ]
  },
  {
   "cell_type": "code",
   "execution_count": 141,
   "metadata": {
    "colab": {
     "base_uri": "https://localhost:8080/",
     "height": 350
    },
    "id": "4eSCQez-kGAN",
    "outputId": "61e1fbe8-7e8f-4ee4-b709-2fc0631ced08"
   },
   "outputs": [
    {
     "data": {
      "image/png": "[encoded data removed]",
      "text/plain": [
       "<Figure size 360x360 with 2 Axes>"
      ]
     },
     "metadata": {
      "needs_background": "light"
     },
     "output_type": "display_data"
    }
   ],
   "source": [
    "# la matrice de confusion\n",
    "from sklearn.metrics import confusion_matrix\n",
    "import seaborn as sns\n",
    "\n",
    "knncla_cm = confusion_matrix(Y_test, Y_predict6)\n",
    "f, ax = plt.subplots(figsize=(5,5))\n",
    "sns.heatmap(knncla_cm, annot=True, linewidth=0.7, linecolor='cyan', fmt='g', ax=ax, cmap=\"BuPu\")\n",
    "plt.title('KNN Classification Confusion Matrix')\n",
    "plt.xlabel('Y predict')\n",
    "plt.ylabel('Y test')\n",
    "plt.show()"
   ]
  },
  {
   "cell_type": "code",
   "execution_count": 123,
   "metadata": {
    "id": "B2DoHtGwkOl6"
   },
   "outputs": [],
   "source": [
    "test_acc_knncla = round(knncla.fit(X_train,Y_train).score(X_test, Y_test)* 100, 2)\n",
    "train_acc_knncla = round(knncla.fit(X_train, Y_train).score(X_train, Y_train)* 100, 2)"
   ]
  },
  {
   "cell_type": "code",
   "execution_count": 130,
   "metadata": {
    "colab": {
     "base_uri": "https://localhost:8080/",
     "height": 80
    },
    "id": "82nx9mPYkP7x",
    "outputId": "6cc223d8-919a-4eda-af19-d9578d781a0a"
   },
   "outputs": [
    {
     "data": {
      "text/html": [
       "<div>\n",
       "<style scoped>\n",
       "    .dataframe tbody tr th:only-of-type {\n",
       "        vertical-align: middle;\n",
       "    }\n",
       "\n",
       "    .dataframe tbody tr th {\n",
       "        vertical-align: top;\n",
       "    }\n",
       "\n",
       "    .dataframe thead th {\n",
       "        text-align: right;\n",
       "    }\n",
       "</style>\n",
       "<table border=\"1\" class=\"dataframe\">\n",
       "  <thead>\n",
       "    <tr style=\"text-align: right;\">\n",
       "      <th></th>\n",
       "      <th>Model</th>\n",
       "      <th>Train Score</th>\n",
       "      <th>Test Score</th>\n",
       "    </tr>\n",
       "  </thead>\n",
       "  <tbody>\n",
       "    <tr>\n",
       "      <th>0</th>\n",
       "      <td>KNN</td>\n",
       "      <td>97.68</td>\n",
       "      <td>94.95</td>\n",
       "    </tr>\n",
       "  </tbody>\n",
       "</table>\n",
       "</div>"
      ],
      "text/plain": [
       "  Model  Train Score  Test Score\n",
       "0   KNN        97.68       94.95"
      ]
     },
     "execution_count": 130,
     "metadata": {},
     "output_type": "execute_result"
    }
   ],
   "source": [
    "\n",
    "\n",
    "#Accuracy\n",
    "model1 = pd.DataFrame({\n",
    "    'Model': ['KNN'],\n",
    "    'Train Score': [train_acc_knncla],\n",
    "    'Test Score': [test_acc_knncla]\n",
    "})\n",
    "model1.sort_values(by='Test Score', ascending=False)"
   ]
  },
  {
   "cell_type": "code",
   "execution_count": 125,
   "metadata": {
    "colab": {
     "base_uri": "https://localhost:8080/"
    },
    "id": "goFImfVnkYsW",
    "outputId": "26b674aa-c866-4c7e-aefe-2ffce6ffe7af"
   },
   "outputs": [
    {
     "name": "stdout",
     "output_type": "stream",
     "text": [
      "moyene de  precision-recall score: 0.84\n"
     ]
    }
   ],
   "source": [
    "#Precision, Recall\n",
    "from sklearn.metrics import average_precision_score\n",
    "average_precision = average_precision_score(Y_test, Y_predict6)\n",
    "\n",
    "print('moyene de  precision-recall score: {0:0.2f}'.format(\n",
    "      average_precision))"
   ]
  },
  {
   "cell_type": "code",
   "execution_count": null,
   "metadata": {
    "id": "cPaVnP1_kcZD"
   },
   "outputs": [],
   "source": []
  },
  {
   "cell_type": "code",
   "execution_count": 126,
   "metadata": {
    "colab": {
     "base_uri": "https://localhost:8080/",
     "height": 312
    },
    "id": "_kaLifmlkdKM",
    "outputId": "92af6ad9-b036-46cf-9533-768c4da318ba"
   },
   "outputs": [
    {
     "data": {
      "text/plain": [
       "Text(0.5, 1.0, '2-class Precision-Recall courbe: AP=0.84')"
      ]
     },
     "execution_count": 126,
     "metadata": {},
     "output_type": "execute_result"
    },
    {
     "data": {
      "image/png": "[encoded data removed]",
      "text/plain": [
       "<Figure size 432x288 with 1 Axes>"
      ]
     },
     "metadata": {
      "needs_background": "light"
     },
     "output_type": "display_data"
    }
   ],
   "source": [
    "from sklearn.metrics import precision_recall_curve\n",
    "from sklearn.metrics import plot_precision_recall_curve\n",
    "import matplotlib.pyplot as plt\n",
    "\n",
    "disp = plot_precision_recall_curve(knncla,X_train, Y_train)\n",
    "disp.ax_.set_title('2-class Precision-Recall courbe: '\n",
    "                   'AP={0:0.2f}'.format(average_precision))"
   ]
  },
  {
   "cell_type": "code",
   "execution_count": 129,
   "metadata": {
    "colab": {
     "base_uri": "https://localhost:8080/"
    },
    "id": "TiKCmfJVkiWF",
    "outputId": "45d977aa-ca4e-4c8f-db07-e96a5162ad02"
   },
   "outputs": [
    {
     "name": "stdout",
     "output_type": "stream",
     "text": [
      "['Temperatue_Matinee', 'Temperature_apreM', 'Precipitation']\n",
      "3\n"
     ]
    },
    {
     "name": "stderr",
     "output_type": "stream",
     "text": [
      "C:\\Users\\hp\\anaconda3\\lib\\site-packages\\sklearn\\svm\\_base.py:985: ConvergenceWarning: Liblinear failed to converge, increase the number of iterations.\n",
      "  warnings.warn(\"Liblinear failed to converge, increase \"\n"
     ]
    }
   ],
   "source": [
    "Y1 = donnees['Demain_il_pleura']\n",
    "X1 = donnees.drop(columns=['Demain_il_pleura','Est_un_jour_de_pluie'])\n",
    "\n",
    "from sklearn.svm import LinearSVC\n",
    "from sklearn.feature_selection import SelectFromModel\n",
    "\n",
    "lsvc = LinearSVC(C=0.05, penalty=\"l1\", dual=False,random_state=9).fit(X1, Y1)\n",
    "model = SelectFromModel(lsvc, prefit=True)\n",
    "X_new = model.transform(X1)\n",
    "cc = list(X1.columns[model.get_support(indices=True)])\n",
    "print(cc)\n",
    "print(len(cc))"
   ]
  },
  {
   "cell_type": "code",
   "execution_count": 131,
   "metadata": {
    "colab": {
     "base_uri": "https://localhost:8080/",
     "height": 296
    },
    "id": "ocjTHw7Rknga",
    "outputId": "62ca6bf2-9687-4664-ce39-2ae553aee0e6"
   },
   "outputs": [
    {
     "data": {
      "image/png": "[encoded data removed]",
      "text/plain": [
       "<Figure size 432x288 with 1 Axes>"
      ]
     },
     "metadata": {
      "needs_background": "light"
     },
     "output_type": "display_data"
    }
   ],
   "source": [
    "from sklearn.decomposition import PCA\n",
    "\n",
    "pca = PCA().fit(X1)\n",
    "plt.figure()\n",
    "plt.plot(np.cumsum(pca.explained_variance_ratio_))\n",
    "#\t\tTemperatures_Moy\t\tEst_un_jour_de_pluie\t\n",
    "plt.xlabel('Demain_il_pleura, Temperatue_Matinee, Temperature_apreM, Precipitations')\n",
    "plt.ylabel('% Variance Explained')\n",
    "plt.title('PCA Analysis')\n",
    "plt.grid(True)\n",
    "plt.show()"
   ]
  },
  {
   "cell_type": "code",
   "execution_count": 132,
   "metadata": {
    "colab": {
     "base_uri": "https://localhost:8080/"
    },
    "id": "HiJ82lxRksyT",
    "outputId": "1c89fd97-2e84-4029-8fba-9aa508eb3fc9"
   },
   "outputs": [
    {
     "name": "stdout",
     "output_type": "stream",
     "text": [
      "Series([], dtype: float64)\n"
     ]
    }
   ],
   "source": [
    "# Percentage of total variance explained\n",
    "variance = pd.Series(list(np.cumsum(pca.explained_variance_ratio_)), \n",
    "                        index= list(range(1, 5))) \n",
    "print(variance[30:70])\n"
   ]
  },
  {
   "cell_type": "code",
   "execution_count": 137,
   "metadata": {
    "id": "mQeQPrIQkzbE"
   },
   "outputs": [],
   "source": [
    "X1 = donnees[cc] \n",
    "from sklearn.model_selection import train_test_split\n",
    "X1_train, X1_test, Y1_train, Y1_test = train_test_split(X1, Y1, test_size=0.3, random_state=9)"
   ]
  },
  {
   "cell_type": "code",
   "execution_count": null,
   "metadata": {},
   "outputs": [],
   "source": []
  },
  {
   "cell_type": "code",
   "execution_count": 181,
   "metadata": {
    "id": "399TTjgDk7iT"
   },
   "outputs": [
    {
     "name": "stderr",
     "output_type": "stream",
     "text": [
      "<ipython-input-181-fa3c898f11da>:1: ParserWarning: Falling back to the 'python' engine because the 'c' engine does not support regex separators (separators > 1 char and different from '\\s+' are interpreted as regex); you can avoid this warning by specifying engine='python'.\n",
      "  pedictio_afaire= pd.read_csv('./nouveau_a_predire.csv',sep=r'\\s*,\\s*')\n"
     ]
    },
    {
     "data": {
      "text/plain": [
       "0"
      ]
     },
     "execution_count": 181,
     "metadata": {},
     "output_type": "execute_result"
    }
   ],
   "source": [
    "\n",
    "pedictio_afaire= pd.read_csv('./nouveau_a_predire.csv',sep=r'\\s*,\\s*')\n",
    "pedictio_afaire = pedictio_afaire.drop(columns=['Stations','Dates','Demain_il_pleura'],\n",
    "\n",
    "                 axis=1)\n",
    "pedictio_afaire = pedictio_afaire.dropna(how='any')\n",
    "\n",
    "knncla.predict(pedictio_afaire)[0]\n",
    "    "
   ]
  },
  {
   "cell_type": "code",
   "execution_count": null,
   "metadata": {
    "colab": {
     "base_uri": "https://localhost:8080/",
     "height": 304
    },
    "id": "uWHMXXozk7zs",
    "outputId": "e9cde5c9-69a7-43f2-aaa5-c67a186a35a0"
   },
   "outputs": [],
   "source": []
  },
  {
   "cell_type": "code",
   "execution_count": null,
   "metadata": {
    "colab": {
     "base_uri": "https://localhost:8080/"
    },
    "id": "uwmDMKujlPIN",
    "outputId": "9507555b-74f6-4a7f-d692-9cfe72ce68a2"
   },
   "outputs": [],
   "source": []
  },
  {
   "cell_type": "code",
   "execution_count": null,
   "metadata": {
    "colab": {
     "base_uri": "https://localhost:8080/"
    },
    "id": "kSyk0WitlUOz",
    "outputId": "ecc41ee1-6c20-44c0-b328-31283bac1966"
   },
   "outputs": [],
   "source": []
  }
 ],
 "metadata": {
  "colab": {
   "name": "TPE GROUPE 15.ipynb",
   "provenance": []
  },
  "kernelspec": {
   "display_name": "Python 3",
   "language": "python",
   "name": "python3"
  },
  "language_info": {
   "codemirror_mode": {
    "name": "ipython",
    "version": 3
   },
   "file_extension": ".py",
   "mimetype": "text/x-python",
   "name": "python",
   "nbconvert_exporter": "python",
   "pygments_lexer": "ipython3",
   "version": "3.8.8"
  }
 },
 "nbformat": 4,
 "nbformat_minor": 1
}
